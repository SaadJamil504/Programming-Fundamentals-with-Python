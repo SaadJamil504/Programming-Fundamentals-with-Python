{
 "cells": [
  {
   "cell_type": "raw",
   "id": "7c8f722c-4551-4e34-9ed5-e40d7fc5b2f1",
   "metadata": {},
   "source": [
    "Task 01"
   ]
  },
  {
   "cell_type": "code",
   "execution_count": 1,
   "id": "407163b9-0772-46bc-960d-bde9092aea22",
   "metadata": {},
   "outputs": [
    {
     "name": "stdout",
     "output_type": "stream",
     "text": [
      "Program Started…\n",
      "This is the first line of my program.\n",
      "This is the second line of my program.\n",
      "Program Ended.\n"
     ]
    }
   ],
   "source": [
    "print(\"Program Started…\")\n",
    "print(\"This is the first line of my program.\")\n",
    "print(\"This is the second line of my program.\")\n",
    "print(\"Program Ended.\")"
   ]
  },
  {
   "cell_type": "raw",
   "id": "7322ed2b-677f-41f4-a76a-f8fe21a0d565",
   "metadata": {},
   "source": [
    "Task 02"
   ]
  },
  {
   "cell_type": "code",
   "execution_count": 2,
   "id": "e1f7e89d-ced2-4a3b-9ce7-5ad97c118d1c",
   "metadata": {},
   "outputs": [
    {
     "name": "stdout",
     "output_type": "stream",
     "text": [
      "First Name\tLast Name\tDegree\tRoll no\tBatch\n",
      "Ali\t\tMunir\t\tDS\t001\tF22\n",
      "Ayesha\tRazzaq\t\tDS\t002\tF22\n"
     ]
    }
   ],
   "source": [
    "print(\"First Name\\tLast Name\\tDegree\\tRoll no\\tBatch\")\n",
    "print(\"Ali\\t\\tMunir\\t\\tDS\\t001\\tF22\")\n",
    "print(\"Ayesha\\tRazzaq\\t\\tDS\\t002\\tF22\")"
   ]
  },
  {
   "cell_type": "raw",
   "id": "6357afb2-e0a7-4492-8738-90fda06ba4cf",
   "metadata": {},
   "source": [
    "Task 03"
   ]
  },
  {
   "cell_type": "code",
   "execution_count": 3,
   "id": "1891092c-8123-4952-81bd-c14baa1dae91",
   "metadata": {},
   "outputs": [
    {
     "name": "stdout",
     "output_type": "stream",
     "text": [
      "Practice 01\n",
      "Programming Fundamentals.\n",
      "First Semester\n",
      "My Programs\n",
      "First\tSecond\tThird.py\n"
     ]
    }
   ],
   "source": [
    "print(\"Practice 01\")\n",
    "print(\"Programming Fundamentals.\")\n",
    "print(\"First Semester\")\n",
    "print(\"My Programs\")\n",
    "print(\"First\\tSecond\\tThird.py\")"
   ]
  },
  {
   "cell_type": "raw",
   "id": "10deb7ec-a810-4592-b2c8-60cdaeca7b5d",
   "metadata": {},
   "source": [
    "Task 04"
   ]
  },
  {
   "cell_type": "code",
   "execution_count": 4,
   "id": "ba7798b1-4c7b-4415-90a6-508b5425527b",
   "metadata": {},
   "outputs": [
    {
     "name": "stdout",
     "output_type": "stream",
     "text": [
      "    *\n",
      "   * *\n",
      "  *****\n",
      " *     *\n",
      "*       *\n"
     ]
    }
   ],
   "source": [
    "print(\"    *\")\n",
    "print(\"   * *\")\n",
    "print(\"  *****\")\n",
    "print(\" *     *\")\n",
    "print(\"*       *\")\n"
   ]
  },
  {
   "cell_type": "raw",
   "id": "9d1348ec-5e03-48de-9604-9d3a05f7030c",
   "metadata": {},
   "source": [
    "Task 05"
   ]
  },
  {
   "cell_type": "code",
   "execution_count": 5,
   "id": "05882693-b02e-498d-95bc-f60b226de24e",
   "metadata": {},
   "outputs": [
    {
     "name": "stdout",
     "output_type": "stream",
     "text": [
      "* * * * *\n",
      "* A B C *\n",
      "* D E F *\n",
      "* G H I *\n",
      "* * * * *\n"
     ]
    }
   ],
   "source": [
    "print(\"* * * * *\")\n",
    "print(\"* A B C *\")\n",
    "print(\"* D E F *\")\n",
    "print(\"* G H I *\")\n",
    "print(\"* * * * *\")\n"
   ]
  },
  {
   "cell_type": "raw",
   "id": "166d6112-5e03-42af-8ef3-d4f8155be846",
   "metadata": {},
   "source": [
    "Task 06"
   ]
  },
  {
   "cell_type": "code",
   "execution_count": null,
   "id": "a2d2db67-9735-4021-bab2-c7ab925c609b",
   "metadata": {},
   "outputs": [],
   "source": [
    "print(\"|H|   |H| |E||E||E||E| |L|   |L|   |O||O||O||O||O|\")\n",
    "print(\"|H|    |H|  |E|   |L|   |L|   |O|   |O|\")\n",
    "print(\"|H|      |H|  |E|   |L|   |L|   |O|    |O|\")\n",
    "print(\"|H|   |H|  |E|   |L|   |L|  |O|    |O|\")\n",
    "print(\"|H||H||H||H||H| |E||E||E|  |L|   |L|   |O|    |O|\")\n",
    "print(\"|H|    |H|  |E|   |L|   |L|   |O|    |O|\")\n",
    "print(\"|H|    |H|  |E|   |L|   |L|   |O|    |O|\")\n",
    "print(\"|H|    |H|  |E|  |L|   |L|   |O|    |O|\")\n",
    "print(\"|H|    |H|  |E||E||E||E|  |L||L||L||L|  |L||L||L||L| |O||O||O||O||O|\")\n"
   ]
  },
  {
   "cell_type": "raw",
   "id": "2b6f2ef3-293d-46fc-8a6c-1fa56ba24033",
   "metadata": {},
   "source": [
    "Task 07"
   ]
  },
  {
   "cell_type": "code",
   "execution_count": 7,
   "id": "d8068fb1-e019-44f2-a4f4-99b13815f4cb",
   "metadata": {},
   "outputs": [
    {
     "name": "stdout",
     "output_type": "stream",
     "text": [
      "  _____        _____ \n",
      "|_____| >>----------------->> |_____|\n",
      "\n",
      "|—---->           <----|\n",
      "|—------------>         <—-------- |\n",
      "|—----—----—------->    <------------------|\n",
      "|—------------>         <—-------- |\n",
      "|—---->           <----|\n"
     ]
    }
   ],
   "source": [
    "print(\"  _____        _____ \")\n",
    "print(\"|_____| >>----------------->> |_____|\")\n",
    "print(\"\\n|—---->           <----|\")\n",
    "print(\"|—------------>         <—-------- |\")\n",
    "print(\"|—----—----—------->    <------------------|\")\n",
    "print(\"|—------------>         <—-------- |\")\n",
    "print(\"|—---->           <----|\")\n"
   ]
  },
  {
   "cell_type": "code",
   "execution_count": null,
   "id": "65232d5a-610c-44fe-9cc1-7d82a31ddcdd",
   "metadata": {},
   "outputs": [],
   "source": []
  }
 ],
 "metadata": {
  "kernelspec": {
   "display_name": "Python 3 (ipykernel)",
   "language": "python",
   "name": "python3"
  },
  "language_info": {
   "codemirror_mode": {
    "name": "ipython",
    "version": 3
   },
   "file_extension": ".py",
   "mimetype": "text/x-python",
   "name": "python",
   "nbconvert_exporter": "python",
   "pygments_lexer": "ipython3",
   "version": "3.12.4"
  }
 },
 "nbformat": 4,
 "nbformat_minor": 5
}
