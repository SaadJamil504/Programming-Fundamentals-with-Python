{
 "cells": [
  {
   "cell_type": "raw",
   "id": "2a254467-ac24-4d12-be55-9b234bab2c00",
   "metadata": {},
   "source": [
    "Task 01"
   ]
  },
  {
   "cell_type": "code",
   "execution_count": 4,
   "id": "224c6601-802c-463b-aef6-3d1a84e76f00",
   "metadata": {},
   "outputs": [
    {
     "name": "stdin",
     "output_type": "stream",
     "text": [
      "Enter Basic Salary:  100000\n"
     ]
    },
    {
     "name": "stdout",
     "output_type": "stream",
     "text": [
      "Gross Salary = 170000.0\n",
      "Net Salary = 153000.0\n"
     ]
    }
   ],
   "source": [
    "basic_salary = float(input(\"Enter Basic Salary: \"))\n",
    "medical_allowance = basic_salary * 0.10\n",
    "conveyance_allowance = basic_salary * 0.15\n",
    "house_rent = basic_salary * 0.45\n",
    "gross_salary = basic_salary + medical_allowance + conveyance_allowance + house_rent\n",
    "\n",
    "# Tax calculation\n",
    "tax = gross_salary * 0.10\n",
    "net_salary = gross_salary - tax\n",
    "\n",
    "# Output\n",
    "print(f\"Gross Salary = {gross_salary}\")\n",
    "print(f\"Net Salary = {net_salary}\")\n"
   ]
  },
  {
   "cell_type": "raw",
   "id": "a86de960-e271-4727-a1ed-d902c5c4464d",
   "metadata": {},
   "source": [
    "Task 02"
   ]
  },
  {
   "cell_type": "code",
   "execution_count": 7,
   "id": "398fbc95-8fb4-4758-a6ec-23f2fe248ef1",
   "metadata": {},
   "outputs": [
    {
     "name": "stdin",
     "output_type": "stream",
     "text": [
      "Enter Amount Deposited:  25\n"
     ]
    },
    {
     "name": "stdout",
     "output_type": "stream",
     "text": [
      "Amount after one year = 27.500000000000004\n",
      "Amount after second year = 30.250000000000007\n",
      "Amount after third year = 33.27500000000001\n"
     ]
    }
   ],
   "source": [
    "amount = float(input(\"Enter Amount Deposited: \"))\n",
    "rate = 0.10\n",
    "\n",
    "amount_after_1_year = amount * (1 + rate)\n",
    "amount_after_2_years = amount_after_1_year * (1 + rate)\n",
    "amount_after_3_years = amount_after_2_years * (1 + rate)\n",
    "\n",
    "# Output\n",
    "print(f\"Amount after one year = {amount_after_1_year}\")\n",
    "print(f\"Amount after second year = {amount_after_2_years}\")\n",
    "print(f\"Amount after third year = {amount_after_3_years}\")\n"
   ]
  },
  {
   "cell_type": "raw",
   "id": "927c5c11-09fa-4006-b410-e4aa0424e2ee",
   "metadata": {},
   "source": [
    "Task 03"
   ]
  },
  {
   "cell_type": "code",
   "execution_count": 6,
   "id": "ee4f5c28-9692-4e2b-8251-7970e0104e8c",
   "metadata": {},
   "outputs": [
    {
     "name": "stdin",
     "output_type": "stream",
     "text": [
      "Enter Initial Height of the Plant:  5\n"
     ]
    },
    {
     "name": "stdout",
     "output_type": "stream",
     "text": [
      "Height after year 1 = 10.0\n",
      "Height after year 2 = 20.0\n",
      "Height after year 3 = 40.0\n",
      "Height after year 4 = 80.0\n",
      "Height after year 5 = 160.0\n"
     ]
    }
   ],
   "source": [
    "initial_height = float(input(\"Enter Initial Height of the Plant: \"))\n",
    "for year in range(1, 6):\n",
    "    height = initial_height * (2 ** year)\n",
    "    print(f\"Height after year {year} = {height}\")\n"
   ]
  },
  {
   "cell_type": "code",
   "execution_count": null,
   "id": "090ba2b5-c8d5-4dc3-9e8c-f2db09819f96",
   "metadata": {},
   "outputs": [],
   "source": []
  }
 ],
 "metadata": {
  "kernelspec": {
   "display_name": "Python 3 (ipykernel)",
   "language": "python",
   "name": "python3"
  },
  "language_info": {
   "codemirror_mode": {
    "name": "ipython",
    "version": 3
   },
   "file_extension": ".py",
   "mimetype": "text/x-python",
   "name": "python",
   "nbconvert_exporter": "python",
   "pygments_lexer": "ipython3",
   "version": "3.12.4"
  }
 },
 "nbformat": 4,
 "nbformat_minor": 5
}
