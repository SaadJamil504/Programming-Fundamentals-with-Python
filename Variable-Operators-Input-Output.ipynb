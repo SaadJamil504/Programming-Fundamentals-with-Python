{
 "cells": [
  {
   "cell_type": "raw",
   "id": "b65e0528-4d28-4327-a933-e301b27fbf9c",
   "metadata": {},
   "source": [
    "Variable-Operators-Input-Output"
   ]
  },
  {
   "cell_type": "raw",
   "id": "269c742f-6476-4209-ab94-e6c35240029b",
   "metadata": {},
   "source": [
    "Input three values, calculate and print their average:"
   ]
  },
  {
   "cell_type": "code",
   "execution_count": null,
   "id": "83130dcb-6765-4867-b6ab-b4dc3709fb09",
   "metadata": {},
   "outputs": [],
   "source": [
    "first = int(input('Enter first number:'))\n",
    "second = int(input('Enter second number:'))\n",
    "third = int(input('Enter third number:'))\n",
    "average = (first + second + third) / 3\n",
    "print('Average: ', average)\n"
   ]
  },
  {
   "cell_type": "raw",
   "id": "ab0919a9-c623-43df-a4b5-a04b4519e950",
   "metadata": {},
   "source": [
    "Input two numbers. Print their sum, difference and product:"
   ]
  },
  {
   "cell_type": "code",
   "execution_count": null,
   "id": "b6a997a8-b629-4dec-94ca-df9e88f68491",
   "metadata": {},
   "outputs": [],
   "source": [
    "first = int(input('Enter first number:'))\n",
    "second = int(input('Enter second number:'))\n",
    "print('Sum: ', first + second)\n",
    "print('Difference: ', first - second)\n",
    "print('Product: ', first * second)"
   ]
  },
  {
   "cell_type": "raw",
   "id": "9baa36f1-9f58-484d-bd60-2d58a891858b",
   "metadata": {},
   "source": [
    "Input number of hours. Find and print number of minutes."
   ]
  },
  {
   "cell_type": "code",
   "execution_count": null,
   "id": "c863148c-71a1-4f45-b89e-5cd3c020d401",
   "metadata": {},
   "outputs": [],
   "source": [
    "hours = int(input('Enter number of hours:'))\n",
    "print('Number of minutes: ', hours * 60)"
   ]
  },
  {
   "cell_type": "raw",
   "id": "d9dbd9f2-8322-4fe4-b063-c120b71baca0",
   "metadata": {},
   "source": [
    "Input number of seconds and print number of hours, number of minutes and remaining number of seconds:"
   ]
  },
  {
   "cell_type": "code",
   "execution_count": null,
   "id": "f4c71d9c-a4a1-496c-ac8d-e087b02936ad",
   "metadata": {},
   "outputs": [],
   "source": [
    "seconds = int(input('Enter number of seconds:'))\n",
    "hours = seconds // 3600\n",
    "print('Number of hours: ', hours)\n",
    "remaining_seconds = seconds % 3600\n",
    "minutes = remaining_seconds // 60\n",
    "print('Number of minutes: ', minutes)\n",
    "print('Number of seconds: ', remaining_seconds % 60)"
   ]
  },
  {
   "cell_type": "raw",
   "id": "8c2ef70f-3509-43cf-8df3-9455ea99680e",
   "metadata": {},
   "source": [
    "Input two strings. Find their length. Print the sum of their lengths."
   ]
  },
  {
   "cell_type": "code",
   "execution_count": null,
   "id": "33f13e13-f1c6-4339-a1cf-1eb94a3401a2",
   "metadata": {},
   "outputs": [],
   "source": [
    "first = input('Enter any string: ')\n",
    "second = input('Enter another string: ')\n",
    "print('Length of string 1 =: ', len(first))\n",
    "print('Length of string 2 =: ', len(second))\n",
    "print('Sum of both lengths: ', len(first)+len(second))"
   ]
  },
  {
   "cell_type": "code",
   "execution_count": null,
   "id": "30af39ff-4696-477c-b445-5ef82e0f5839",
   "metadata": {},
   "outputs": [],
   "source": []
  }
 ],
 "metadata": {
  "kernelspec": {
   "display_name": "Python 3 (ipykernel)",
   "language": "python",
   "name": "python3"
  },
  "language_info": {
   "codemirror_mode": {
    "name": "ipython",
    "version": 3
   },
   "file_extension": ".py",
   "mimetype": "text/x-python",
   "name": "python",
   "nbconvert_exporter": "python",
   "pygments_lexer": "ipython3",
   "version": "3.12.4"
  }
 },
 "nbformat": 4,
 "nbformat_minor": 5
}
