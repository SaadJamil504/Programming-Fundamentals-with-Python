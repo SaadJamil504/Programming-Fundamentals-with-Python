{
 "cells": [
  {
   "cell_type": "markdown",
   "id": "80602182-ce7e-48e4-ba86-ee08bc8d0ec1",
   "metadata": {},
   "source": [
    "# Variable-Operators-Input-Output"
   ]
  },
  {
   "cell_type": "markdown",
   "id": "481178dd-e351-4aec-ad32-db49cc84c954",
   "metadata": {},
   "source": [
    "## Task 01\n",
    "**Description:**  \n",
    "Input ninth class marks and print a result card.  \n",
    "The sample is given, ignore lines, and just show values in columns.\n",
    "\n"
   ]
  },
  {
   "cell_type": "code",
   "execution_count": null,
   "id": "a7a4721c-3cd7-4a71-ab01-5e6d7f0e744d",
   "metadata": {},
   "outputs": [],
   "source": [
    "eng = int ( input ('Enter English Marks:' ) )\n",
    "urd = int ( input ('Enter Urdu Marks:' ) )\n",
    "mat = int ( input ('Enter Maths Marks:' ) )\n",
    "isl = int ( input ('Enter Islamiat Marks:' ) )\n",
    "pak = int ( input ('Enter Pak Studies Marks:' ) )\n",
    "phy = int ( input ('Enter Physics Marks:' ) )\n",
    "che = int ( input ('Enter Chemistry Marks:' ) )\n",
    "bio = int ( input ('Enter Biology Marks:' ) )\n",
    "total = eng + urd + mat + isl + pak + phy + che + bio\n",
    "print ('  Subject\\t  Total\\tObtained')\n",
    "print ('1. English    \\t  75\\t     ',eng)\n",
    "print ('2. Urdu       \\t  75\\t     ',urd)\n",
    "print ('3. Maths      \\t  75\\t     ',mat)\n",
    "print ('4. Islamiat   \\t  75\\t     ',isl)\n",
    "print ('5. Pak Studies\\t  75\\t     ',pak)\n",
    "print ('6. Physics    \\t  75\\t     ',phy)\n",
    "print ('7. Chemistry  \\t  75\\t     ',che)\n",
    "print ('8. Biology    \\t  75\\t     ',bio)\n",
    "print ('\\t Total      \\t 525\\t    ',total)"
   ]
  },
  {
   "cell_type": "markdown",
   "id": "88335b96-389f-4fac-b1ea-2f4de35a0237",
   "metadata": {},
   "source": [
    "## Task 02\n",
    "**Description:**  \n",
    "Extend task 01 by inputting the last merit of GC College.\n",
    "Calculate and print how many marks are required in tenth class to secure admission"
   ]
  },
  {
   "cell_type": "code",
   "execution_count": null,
   "id": "e59a6753-9131-475e-b3d0-7d387a60a5c8",
   "metadata": {},
   "outputs": [],
   "source": [
    "eng = int ( input ('Enter English Marks:' ) )\n",
    "urd = int ( input ('Enter Urdu Marks:' ) )\n",
    "mat = int ( input ('Enter Maths Marks:' ) )\n",
    "isl = int ( input ('Enter Islamiat Marks:' ) )\n",
    "pak = int ( input ('Enter Pak Studies Marks:' ) )\n",
    "phy = int ( input ('Enter Physics Marks:' ) )\n",
    "che = int ( input ('Enter Chemistry Marks:' ) )\n",
    "bio = int ( input ('Enter Biology Marks:' ) )\n",
    "total = eng + urd + mat + isl + pak + phy + che + bio\n",
    "print ('  Subject\\t  Total\\tObtained')\n",
    "print ('1. English    \\t  75\\t     ',eng)\n",
    "print ('2. Urdu       \\t  75\\t     ',urd)\n",
    "print ('3. Maths      \\t  75\\t     ',mat)\n",
    "print ('4. Islamiat   \\t  75\\t     ',isl)\n",
    "print ('5. Pak Studies\\t  75\\t     ',pak)\n",
    "print ('6. Physics    \\t  75\\t     ',phy)\n",
    "print ('7. Chemistry  \\t  75\\t     ',che)\n",
    "print ('8. Biology    \\t  75\\t     ',bio)\n",
    "print ('\\t Total      \\t 525\\t    ',total)\n",
    "merit = int ( input ('\\nEnter Last Merit of GC:' ) )\n",
    "print ('Marks required in tenth: ', merit - total)"
   ]
  },
  {
   "cell_type": "markdown",
   "id": "593be17f-d1a1-4e2c-84af-647459296510",
   "metadata": {},
   "source": [
    "## Task 03\n",
    "**Description:**  \n",
    "Input numerator, denominator, and print result in decimal points."
   ]
  },
  {
   "cell_type": "code",
   "execution_count": null,
   "id": "04e55a8d-1e3c-4253-8ab4-8cac40198f74",
   "metadata": {},
   "outputs": [],
   "source": [
    "numerator = int ( input ('Numerator:' ) )\n",
    "denominator = int ( input ('Denominator:' ) )\n",
    "print ('Value: ',numerator/denominator)"
   ]
  },
  {
   "cell_type": "markdown",
   "id": "d31f0f28-70cf-45fa-acf5-62bffce5fe36",
   "metadata": {},
   "source": [
    "## Task 04\n",
    "**Description:**  \n",
    "Input the previous month's budget for entertainment costs (milk, tea, sugar, biscuits).\n",
    "Calculate and print the budget for the current month with a 20% increase."
   ]
  },
  {
   "cell_type": "code",
   "execution_count": null,
   "id": "be6669aa-aab5-41f7-8cfd-e400e028a82e",
   "metadata": {},
   "outputs": [],
   "source": [
    "print ('Previous month budget')\n",
    "milk = int ( input ('Milk:\\t\\t' ) )\n",
    "sugar = int ( input ('Sugar:\\t\\t' ) )\n",
    "tea = int ( input ('Tea:\\t\\t\\t' ) )\n",
    "biscuits = int ( input ('Biscuits:\\t' ) )\n",
    "print ('\\nNext month budget')\n",
    "print ('Milk:\\t\\t', int ( milk * 1.2) )\n",
    "print ('Sugar:\\t\\t', int ( sugar * 1.2) )\n",
    "print ('Tea:\\t\\t\\t', int ( tea * 1.2) )\n",
    "print ('Biscuits:\\t', int ( biscuits * 1.2) )\n",
    "print ('----------------------------------')\n",
    "print ('Total:\\t\\t', int ( milk * 1.2 + sugar * 1.2 + tea * 1.2 + biscuits * 1.2 ) )"
   ]
  }
 ],
 "metadata": {
  "kernelspec": {
   "display_name": "Python 3 (ipykernel)",
   "language": "python",
   "name": "python3"
  },
  "language_info": {
   "codemirror_mode": {
    "name": "ipython",
    "version": 3
   },
   "file_extension": ".py",
   "mimetype": "text/x-python",
   "name": "python",
   "nbconvert_exporter": "python",
   "pygments_lexer": "ipython3",
   "version": "3.12.4"
  }
 },
 "nbformat": 4,
 "nbformat_minor": 5
}
